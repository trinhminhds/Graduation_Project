{
 "cells": [
  {
   "cell_type": "markdown",
   "metadata": {},
   "source": [
    "# Building a handwritten digit recognition system using MNIST dataset\n",
    "\n",
    "---\n",
    "\n",
    "\n",
    "\n",
    "\n",
    "## Problem\n",
    "\n",
    "\n",
    "Handwritten digit recognition is a common problem in a field of Optical Character Recognition `(OCR)`, and it has many practical applications, such as digitizing documents, automating data entry, or processing handwritten forms, such as invoices or surveys. In this project, we will develop a system that can recognize handwritten digits from images or digits written on a screen by using machine learning technology. This system can be extended to perform some basic calculations based on the recognized digits.\n",
    "The aim of this project are:\n",
    "- Build a system that can accurately recognize handwritten digits `(0–9)` from input images.\n",
    "- Convert handwritten input into machine-readable format and perform basic calculations on them such as: addition, subtraction, multiplication and division.\n",
    "\n",
    "---\n",
    "\n",
    "## Some main tasks:\n",
    "- `Data colection`: In this project, you use the MNIST dataset, which consists of 60,000 training images and 10,000 testing images of handwritten digits. Each image is 28x28 pixels and labeled with the correct digit.\n",
    "- `Image Preprocessing`: Normalize the image data (e.g., convert pixel values to a scale from 0 to 1), resize all images to the same dimensions, and apply noise reduction to improve recognition accuracy.\n",
    "- `Model Development`: We will study how to build and train a model using an advanced technique that separates different classes of digits in machine learning which is `Support Vector Machine (SVM)` algorithm.\n",
    "- `Evaluation`: Test the model’s performance using the test dataset and assess its accuracy using metrics like accuracy, precision, recall, and F1 score.\n",
    "- `Application`: Implement a user interface where users can upload or draw digits on screen, and the system will return the predicted digit based on the trained model. Your system should also be able to work with basic calculations."
   ]
  },
  {
   "cell_type": "markdown",
   "metadata": {},
   "source": [
    "# 📚 | Importing libraries"
   ]
  },
  {
   "cell_type": "code",
   "metadata": {},
   "source": [
    "import os\n",
    "\n",
    "os.environ['TF_ENABLE_ONEDNN_OPTS'] = '0'\n",
    "\n",
    "# Processing data\n",
    "import numpy as np\n",
    "import pandas as pd\n",
    "from imblearn.over_sampling import SMOTE\n",
    "from imblearn.under_sampling import RandomUnderSampler\n",
    "from sklearn.model_selection import train_test_split\n",
    "\n",
    "# library for data visualization\n",
    "import matplotlib.pyplot as plt\n",
    "import seaborn as sns\n",
    "\n",
    "# Load model\n",
    "from model.SVM import SVC\n",
    "\n",
    "# Load datasets\n",
    "from tensorflow.keras import datasets\n",
    "\n",
    "# library for data evaluation\n",
    "from sklearn.metrics import accuracy_score, confusion_matrix, classification_report\n",
    "import joblib\n",
    "import cv2"
   ],
   "outputs": [],
   "execution_count": null
  },
  {
   "cell_type": "markdown",
   "metadata": {},
   "source": [
    "# 📖 | Meta Data\n",
    "`MNIST dataset`: This is a dataset of 60,000 28x28 grayscale images of the 10 digits, along with a test set of 10,000 images. More info can be found at the [MNIST homepage](https://yann.lecun.com/exdb/mnist)."
   ]
  },
  {
   "cell_type": "code",
   "metadata": {},
   "source": [
    "(X_train, y_train), (X_test, y_test) = datasets.mnist.load_data()"
   ],
   "outputs": [],
   "execution_count": null
  },
  {
   "metadata": {},
   "cell_type": "code",
   "source": "X_train.shape, y_train.shape, X_test.shape, y_test.shape",
   "outputs": [],
   "execution_count": null
  },
  {
   "metadata": {},
   "cell_type": "code",
   "source": [
    "df_digit_draw = pd.read_csv(\"./dataset/digit_dataset.csv\")\n",
    "df_digit_draw.head()"
   ],
   "outputs": [],
   "execution_count": null
  },
  {
   "metadata": {},
   "cell_type": "code",
   "source": [
    "df_symboils = pd.read_csv('./dataset/symbols_dataset_new.csv')\n",
    "df_symboils.head()"
   ],
   "outputs": [],
   "execution_count": null
  },
  {
   "cell_type": "markdown",
   "metadata": {},
   "source": [
    "# 📊 | Data preprocessing"
   ]
  },
  {
   "metadata": {},
   "cell_type": "code",
   "source": [
    "X_train_draw = df_digit_draw.drop(\"label\", axis = 1)\n",
    "X_train_draw.head()"
   ],
   "outputs": [],
   "execution_count": null
  },
  {
   "metadata": {},
   "cell_type": "code",
   "source": [
    "y_train_draw = df_digit_draw[\"label\"]\n",
    "y_train_draw.head()"
   ],
   "outputs": [],
   "execution_count": null
  },
  {
   "metadata": {},
   "cell_type": "code",
   "source": [
    "X_train_draw_flatten = X_train_draw.astype('float32') / 255\n",
    "X_train_draw_flatten = X_train_draw_flatten.to_numpy()\n",
    "X_train_draw_resize = X_train_draw_flatten.reshape(-1, 28 * 28)\n",
    "print(X_train_draw_resize.shape)\n",
    "X_train_draw_resize = pd.DataFrame(X_train_draw_resize)\n",
    "print(X_train_draw_resize.head())"
   ],
   "outputs": [],
   "execution_count": null
  },
  {
   "metadata": {},
   "cell_type": "code",
   "source": [
    "df_digit_draw = pd.concat([X_train_draw_resize, y_train_draw], axis = 1)\n",
    "df_digit_draw.head()"
   ],
   "outputs": [],
   "execution_count": null
  },
  {
   "cell_type": "code",
   "metadata": {},
   "source": [
    "X_train_flatten = X_train.astype('float32') / 255\n",
    "X_test_flatten = X_test.astype('float32') / 255"
   ],
   "outputs": [],
   "execution_count": null
  },
  {
   "cell_type": "code",
   "metadata": {},
   "source": [
    "X_train_resize = X_train_flatten.reshape(-1, 28 * 28)\n",
    "X_test_resize = X_test_flatten.reshape(-1, 28 * 28)\n",
    "\n",
    "print(X_train_resize.shape, X_test_resize.shape)"
   ],
   "outputs": [],
   "execution_count": null
  },
  {
   "cell_type": "code",
   "metadata": {},
   "source": [
    "df_X_train = pd.DataFrame(X_train_resize)\n",
    "df_X_test = pd.DataFrame(X_test_resize)\n",
    "df_y_train = pd.DataFrame(y_train)\n",
    "df_y_test = pd.DataFrame(y_test)\n",
    "\n",
    "df_X_train.head()"
   ],
   "outputs": [],
   "execution_count": null
  },
  {
   "metadata": {},
   "cell_type": "code",
   "source": "df_y_train = df_y_train.rename(columns = {0: 'label'})",
   "outputs": [],
   "execution_count": null
  },
  {
   "metadata": {},
   "cell_type": "code",
   "source": [
    "df_digit = pd.concat([df_X_train, df_y_train], axis = 1)\n",
    "df_digit.head()"
   ],
   "outputs": [],
   "execution_count": null
  },
  {
   "metadata": {},
   "cell_type": "code",
   "source": [
    "new_column_names = ['pixel' + str(i) for i in range(784)] + ['label']\n",
    "df_digit_draw.columns = new_column_names\n",
    "df_digit_draw.head()"
   ],
   "outputs": [],
   "execution_count": null
  },
  {
   "metadata": {},
   "cell_type": "markdown",
   "source": "## 📊 | Processing Data Symbols"
  },
  {
   "metadata": {},
   "cell_type": "code",
   "source": "df_symboils.info()",
   "outputs": [],
   "execution_count": null
  },
  {
   "metadata": {},
   "cell_type": "code",
   "source": [
    "df_symboils.columns = new_column_names\n",
    "df_symboils.head()"
   ],
   "outputs": [],
   "execution_count": null
  },
  {
   "metadata": {},
   "cell_type": "code",
   "source": [
    "df_concat = pd.concat([df_digit_draw, df_symboils])\n",
    "df_concat = df_concat.reset_index(drop = True)\n",
    "\n",
    "df_concat.tail()"
   ],
   "outputs": [],
   "execution_count": null
  },
  {
   "metadata": {},
   "cell_type": "code",
   "source": [
    "# Assuming that the label for the symbols are as follows:\n",
    "label_mapping = {'+': 10, '-': 11, '*': 12, '/': 13}\n",
    "\n",
    "# Replace label in the 'label' column using the mapping\n",
    "df_concat['label'] = df_concat['label'].replace(label_mapping)\n",
    "\n",
    "# Now your Dataframe has labels 10, 11, 12, 13 for +, -, *, / respectively\n",
    "df_concat.tail()"
   ],
   "outputs": [],
   "execution_count": null
  },
  {
   "metadata": {},
   "cell_type": "code",
   "source": [
    "X = df_concat.drop(columns = 'label')\n",
    "y = df_concat['label']\n",
    "\n",
    "X.shape, y.shape"
   ],
   "outputs": [],
   "execution_count": null
  },
  {
   "metadata": {},
   "cell_type": "code",
   "source": [
    "ramdom = RandomUnderSampler(random_state = 42)\n",
    "X_random, y_random = ramdom.fit_resample(X, y)\n",
    "\n",
    "print(y.value_counts())\n",
    "print(y_random.value_counts())"
   ],
   "outputs": [],
   "execution_count": null
  },
  {
   "metadata": {},
   "cell_type": "code",
   "source": [
    "# Imblearn dataset\n",
    "smote = SMOTE(random_state = 42)\n",
    "X_smote, y_smote = smote.fit_resample(X, y)\n",
    "\n",
    "print(y.value_counts())\n",
    "print(y_smote.value_counts())"
   ],
   "outputs": [],
   "execution_count": null
  },
  {
   "cell_type": "markdown",
   "metadata": {},
   "source": [
    "# 🪄 | Data visualization"
   ]
  },
  {
   "cell_type": "code",
   "metadata": {},
   "source": [
    "# Visualizing the digits and symbols\n",
    "plt.figure(figsize = (14, 12))\n",
    "for digit_image in range(0, 30):\n",
    "    plt.subplot(7, 10, digit_image + 1)\n",
    "    grid_data = X.iloc[-digit_image].values.reshape(28, 28)\n",
    "    plt.imshow(grid_data, interpolation = 'None', cmap = 'gray')\n",
    "    plt.xticks([])\n",
    "    plt.yticks([])\n",
    "\n",
    "plt.tight_layout()\n",
    "plt.show()"
   ],
   "outputs": [],
   "execution_count": null
  },
  {
   "cell_type": "code",
   "metadata": {},
   "source": [
    "# Visualizing the number of class and counts in the datasets\n",
    "def class_distribution(y):\n",
    "    sns.countplot(x = y, palette = 'Set1')\n",
    "    plt.xlabel('Class')\n",
    "    plt.ylabel('Counts')\n",
    "    plt.title('Class Distribution')\n",
    "    plt.show()\n",
    "\n",
    "\n",
    "class_distribution(y_random)"
   ],
   "outputs": [],
   "execution_count": null
  },
  {
   "cell_type": "markdown",
   "metadata": {},
   "source": [
    "# ☣ | Building model SVM"
   ]
  },
  {
   "metadata": {},
   "cell_type": "code",
   "source": [
    "#Splitting the data into training and testing set\n",
    "X_train, X_test, y_train, y_test = train_test_split(X_random, y_random, test_size = 0.2, random_state = 42)\n",
    "\n",
    "# Print the shape of the data\n",
    "print(f'X_train = {X_train.shape}, y_train = {y_train.shape}, X_test = {X_test.shape}, y_test = {y_test.shape}')"
   ],
   "outputs": [],
   "execution_count": null
  },
  {
   "metadata": {},
   "cell_type": "code",
   "source": [
    "# Visualizing the number of class and counts in the datasets\n",
    "class_distribution(y_train)"
   ],
   "outputs": [],
   "execution_count": null
  },
  {
   "metadata": {},
   "cell_type": "code",
   "source": [
    "# Visualizing the number of class and counts in the datasets\n",
    "class_distribution(y_test)"
   ],
   "outputs": [],
   "execution_count": null
  },
  {
   "metadata": {},
   "cell_type": "code",
   "source": [
    "# Convert the data into numpy arrays\n",
    "X_train_array = X_train.to_numpy()\n",
    "y_train_array = y_train.to_numpy()\n",
    "X_test_array = X_test.to_numpy()\n",
    "y_test_array = y_test.to_numpy()\n",
    "\n",
    "# Print the shape of the data\n",
    "X_train_array[:5], y_train_array[:5]"
   ],
   "outputs": [],
   "execution_count": null
  },
  {
   "cell_type": "code",
   "metadata": {},
   "source": [
    "# Create the model\n",
    "# The model is created with the following hyperparameters:\n",
    "# Learning rate = 0.001\n",
    "# Number of iterations = 100\n",
    "# Lambda parameter = 0.0001\n",
    "# The model is trained on the training data\n",
    "svc = SVC(learning_rate = 0.001, no_of_iterations = 100, lambda_parameter = 0.0001)\n",
    "\n",
    "# Fit the model\n",
    "svc.fit(X_train_array, y_train_array)"
   ],
   "outputs": [],
   "execution_count": null
  },
  {
   "metadata": {},
   "cell_type": "code",
   "source": [
    "# Predict the model\n",
    "y_predict = svc.predict(X_test_array)\n",
    "\n",
    "# Print the predicted values\n",
    "print(f'Predict values: {y_predict[:5]}')\n",
    "\n",
    "# Print the actual values\n",
    "print(f'Actual values: {y_test_array[:5]}')"
   ],
   "outputs": [],
   "execution_count": null
  },
  {
   "cell_type": "markdown",
   "metadata": {},
   "source": [
    "# 📊 | Model evaluation"
   ]
  },
  {
   "cell_type": "code",
   "metadata": {},
   "source": [
    "# Calculate the accuracy of the model\n",
    "test_accuracy = accuracy_score(y_test_array, y_predict)\n",
    "print(f'Test Accuracy: {test_accuracy * 100:.3f}%')"
   ],
   "outputs": [],
   "execution_count": null
  },
  {
   "cell_type": "code",
   "metadata": {},
   "source": [
    "# Confusion matrix\n",
    "confusion = confusion_matrix(y_test_array, y_predict)\n",
    "\n",
    "# Plot the confusion matrix\n",
    "sns.heatmap(confusion, annot = True, fmt = 'd', cmap = 'Blues')\n",
    "plt.show()"
   ],
   "outputs": [],
   "execution_count": null
  },
  {
   "cell_type": "code",
   "metadata": {},
   "source": [
    "# Classification report\n",
    "class_wine = classification_report(y_test_array, y_predict)\n",
    "print(class_wine)"
   ],
   "outputs": [],
   "execution_count": null
  },
  {
   "cell_type": "markdown",
   "metadata": {},
   "source": [
    "# 📸 | Predicting the image"
   ]
  },
  {
   "cell_type": "code",
   "metadata": {},
   "source": [
    "image = cv2.imread('D:\\Graduation_Project\\dataset\\digit_test\\img_184.jpg')\n",
    "\n",
    "gray_image = cv2.cvtColor(image, cv2.COLOR_BGR2GRAY)\n",
    "\n",
    "blurred_image = cv2.GaussianBlur(gray_image, (3, 3), 0)\n",
    "\n",
    "resize_image = cv2.resize(blurred_image, (28, 28))\n",
    "\n",
    "plt.imshow(resize_image, cmap = 'gray')\n",
    "plt.show()\n",
    "\n",
    "flatten_image = resize_image.astype('float32') / 255\n",
    "flatten_image = flatten_image.reshape(1, -1)\n",
    "\n",
    "prediction = svc.predict(flatten_image)\n",
    "print(prediction)"
   ],
   "outputs": [],
   "execution_count": null
  },
  {
   "cell_type": "markdown",
   "metadata": {},
   "source": [
    "# 💾 | Save the model"
   ]
  },
  {
   "cell_type": "code",
   "metadata": {},
   "source": "joblib.dump(svc, r\"D:\\Graduation_Project\\model\\svm_digit_classifier_version3.pkl\")",
   "outputs": [],
   "execution_count": null
  }
 ],
 "metadata": {
  "kernelspec": {
   "display_name": ".venv",
   "language": "python",
   "name": "python3"
  },
  "language_info": {
   "codemirror_mode": {
    "name": "ipython",
    "version": 3
   },
   "file_extension": ".py",
   "mimetype": "text/x-python",
   "name": "python",
   "nbconvert_exporter": "python",
   "pygments_lexer": "ipython3",
   "version": "3.11.9"
  }
 },
 "nbformat": 4,
 "nbformat_minor": 2
}
