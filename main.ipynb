{
 "cells": [
  {
   "cell_type": "markdown",
   "metadata": {},
   "source": []
  },
  {
   "cell_type": "markdown",
   "metadata": {},
   "source": [
    "# 📚 | Importing libraries"
   ]
  },
  {
   "cell_type": "code",
   "execution_count": 15,
   "metadata": {},
   "outputs": [],
   "source": [
    "import os\n",
    "\n",
    "os.environ['TF_ENABLE_ONEDNN_OPTS'] = '0'\n",
    "import numpy as np\n",
    "import pandas as pd\n",
    "# library for data visualization\n",
    "import matplotlib.pyplot as plt\n",
    "import seaborn as sns\n",
    "# Load model\n",
    "from Model.SVM import SVC\n",
    "# Load datasets\n",
    "from tensorflow.keras import datasets\n",
    "# library for data evaluation\n",
    "from sklearn.metrics import accuracy_score, confusion_matrix, classification_report\n",
    "import joblib\n",
    "import cv2"
   ]
  },
  {
   "cell_type": "markdown",
   "metadata": {},
   "source": [
    "# 📊 | Load and preprocess datasets"
   ]
  },
  {
   "cell_type": "code",
   "execution_count": 16,
   "metadata": {},
   "outputs": [],
   "source": [
    "(X_train, y_train), (X_test, y_test) = datasets.mnist.load_data()"
   ]
  },
  {
   "cell_type": "markdown",
   "metadata": {},
   "source": [
    "# 📊 | Data preprocessing"
   ]
  },
  {
   "cell_type": "code",
   "execution_count": 17,
   "metadata": {},
   "outputs": [],
   "source": [
    "X_train_flatten = X_train.astype('float32') / 255\n",
    "X_test_flatten = X_test.astype('float32') / 255"
   ]
  },
  {
   "cell_type": "code",
   "execution_count": 18,
   "metadata": {},
   "outputs": [
    {
     "name": "stdout",
     "output_type": "stream",
     "text": [
      "(60000, 784) (10000, 784)\n"
     ]
    }
   ],
   "source": [
    "X_train_resize = X_train_flatten.reshape(-1, 28 * 28)\n",
    "X_test_resize = X_test_flatten.reshape(-1, 28 * 28)\n",
    "\n",
    "print(X_train_resize.shape, X_test_resize.shape)"
   ]
  },
  {
   "cell_type": "code",
   "execution_count": null,
   "metadata": {},
   "outputs": [],
   "source": [
    "df_X_train = pd.DataFrame(X_train_resize)\n",
    "df_X_test = pd.DataFrame(X_test_resize)\n",
    "df_y_train = pd.DataFrame(y_train)\n",
    "df_y_test = pd.DataFrame(y_test)\n",
    "\n",
    "df_X_train.head()"
   ]
  },
  {
   "cell_type": "markdown",
   "metadata": {},
   "source": [
    "# 🪄 | Data visualization"
   ]
  },
  {
   "cell_type": "code",
   "execution_count": null,
   "metadata": {},
   "outputs": [],
   "source": [
    "plt.figure(figsize = (14, 12))\n",
    "for digit_image in range(0, 30):\n",
    "    plt.subplot(7, 10, digit_image + 1)\n",
    "    grid_data = df_X_train.iloc[digit_image].values.reshape(28, 28)\n",
    "    plt.imshow(grid_data, interpolation = 'None', cmap = 'gray')\n",
    "    plt.xticks([])\n",
    "    plt.yticks([])\n",
    "\n",
    "plt.tight_layout()\n",
    "plt.show()"
   ]
  },
  {
   "cell_type": "code",
   "execution_count": null,
   "metadata": {},
   "outputs": [],
   "source": [
    "# Visualizing the number of class and counts in the datasets\n",
    "sns.countplot(df_y_train[\"label\"])\n",
    "plt.xlabel('Class')\n",
    "plt.ylabel('Counts')\n",
    "plt.title('Class Distribution')\n",
    "plt.show()"
   ]
  },
  {
   "cell_type": "markdown",
   "metadata": {},
   "source": [
    "# ☣ | Building model SVM"
   ]
  },
  {
   "cell_type": "code",
   "execution_count": 19,
   "metadata": {},
   "outputs": [],
   "source": [
    "svc = SVC(learning_rate = 0.001, no_of_iterations = 100, lambda_parameter = 0.0001)\n",
    "svc.fit(X_train_resize, y_train)"
   ]
  },
  {
   "cell_type": "code",
   "execution_count": 20,
   "metadata": {},
   "outputs": [
    {
     "name": "stdout",
     "output_type": "stream",
     "text": [
      "\n",
      "Accuracy: 91.680%\n",
      "\n"
     ]
    }
   ],
   "source": [
    "accuracy = svc.score(X_test_resize, y_test)\n",
    "print(f\"\\nAccuracy: {accuracy * 100:.3f}%\\n\")"
   ]
  },
  {
   "cell_type": "code",
   "execution_count": 21,
   "metadata": {},
   "outputs": [
    {
     "name": "stdout",
     "output_type": "stream",
     "text": [
      "Gia tri du doan: [7 2 1 0 4]\n",
      "Gia tri thuc: [7 2 1 0 4]\n"
     ]
    }
   ],
   "source": [
    "y_predict = svc.predict(X_test_resize)\n",
    "print(f'Gia tri du doan: {y_predict[:5]}')\n",
    "print(f'Gia tri thuc: {y_test[:5]}')"
   ]
  },
  {
   "cell_type": "markdown",
   "metadata": {},
   "source": [
    "# 📊 | Model evaluation"
   ]
  },
  {
   "cell_type": "code",
   "execution_count": 22,
   "metadata": {},
   "outputs": [
    {
     "name": "stdout",
     "output_type": "stream",
     "text": [
      "Test Accuracy: 91.680%\n"
     ]
    }
   ],
   "source": [
    "test_accuracy = accuracy_score(y_test, y_predict)\n",
    "print(f'Test Accuracy: {test_accuracy * 100:.3f}%')"
   ]
  },
  {
   "cell_type": "code",
   "execution_count": 23,
   "metadata": {},
   "outputs": [
    {
     "data": {
      "text/plain": [
       "array([[ 964,    0,    1,    2,    0,    3,    7,    2,    1,    0],\n",
       "       [   0, 1117,    2,    2,    0,    1,    4,    1,    8,    0],\n",
       "       [  11,   12,  904,   25,   10,    4,   13,   11,   36,    6],\n",
       "       [   5,    0,   19,  921,    2,   21,    4,   11,   14,   13],\n",
       "       [   1,    3,    2,    1,  901,    1,   10,    1,    6,   56],\n",
       "       [  10,    3,    1,   31,   13,  778,   20,    4,   22,   10],\n",
       "       [  12,    3,    3,    2,    4,   17,  915,    0,    2,    0],\n",
       "       [   3,   11,   21,    6,    9,    1,    1,  934,    4,   38],\n",
       "       [  14,   17,    6,   28,   15,   38,   13,    8,  824,   11],\n",
       "       [   9,    8,    1,   15,   30,   11,    0,   16,    9,  910]],\n",
       "      dtype=int64)"
      ]
     },
     "execution_count": 23,
     "metadata": {},
     "output_type": "execute_result"
    }
   ],
   "source": [
    "confusion = confusion_matrix(y_test, y_predict)\n",
    "sns.heatmap(confusion, annot = True, fmt = 'd')"
   ]
  },
  {
   "cell_type": "code",
   "execution_count": 26,
   "metadata": {},
   "outputs": [
    {
     "name": "stdout",
     "output_type": "stream",
     "text": [
      "              precision    recall  f1-score   support\n",
      "\n",
      "           0       0.94      0.98      0.96       980\n",
      "           1       0.95      0.98      0.97      1135\n",
      "           2       0.94      0.88      0.91      1032\n",
      "           3       0.89      0.91      0.90      1010\n",
      "           4       0.92      0.92      0.92       982\n",
      "           5       0.89      0.87      0.88       892\n",
      "           6       0.93      0.96      0.94       958\n",
      "           7       0.95      0.91      0.93      1028\n",
      "           8       0.89      0.85      0.87       974\n",
      "           9       0.87      0.90      0.89      1009\n",
      "\n",
      "    accuracy                           0.92     10000\n",
      "   macro avg       0.92      0.92      0.92     10000\n",
      "weighted avg       0.92      0.92      0.92     10000\n",
      "\n"
     ]
    }
   ],
   "source": [
    "class_wine = classification_report(y_test, y_predict)\n",
    "print(class_wine)"
   ]
  },
  {
   "cell_type": "markdown",
   "metadata": {},
   "source": [
    "# 📸 | Predicting the image"
   ]
  },
  {
   "cell_type": "code",
   "execution_count": null,
   "metadata": {},
   "outputs": [],
   "source": [
    "image = cv2.imread('')\n",
    "\n",
    "gray_image = cv2.cvtColor(image, cv2.COLOR_BGR2GRAY)\n",
    "\n",
    "blurred_image = cv2.GaussianBlur(gray_image, (3, 3), 0)\n",
    "\n",
    "resize_image = cv2.resize(blurred_image, (28, 28))\n",
    "\n",
    "plt.imshow(resize_image, cmap = 'gray')\n",
    "plt.show()\n",
    "\n",
    "flatten_image = resize_image.astype('float32') / 255\n",
    "flatten_image = flatten_image.reshape(1, -1)\n",
    "\n",
    "prediction = svc.predict(flatten_image)\n",
    "print(prediction)"
   ]
  },
  {
   "cell_type": "markdown",
   "metadata": {},
   "source": [
    "# 💾 | Save the model"
   ]
  },
  {
   "cell_type": "code",
   "execution_count": 27,
   "metadata": {},
   "outputs": [
    {
     "data": {
      "text/plain": [
       "['D:\\\\\\\\Graduation_Project\\\\\\\\Model\\\\\\\\svm_digit_classifier.pkl']"
      ]
     },
     "execution_count": 27,
     "metadata": {},
     "output_type": "execute_result"
    }
   ],
   "source": [
    "joblib.dump(svc, r\"D:\\\\Graduation_Project\\\\Model\\\\svm_digit_classifier.pkl\")"
   ]
  }
 ],
 "metadata": {
  "kernelspec": {
   "display_name": ".venv",
   "language": "python",
   "name": "python3"
  },
  "language_info": {
   "codemirror_mode": {
    "name": "ipython",
    "version": 3
   },
   "file_extension": ".py",
   "mimetype": "text/x-python",
   "name": "python",
   "nbconvert_exporter": "python",
   "pygments_lexer": "ipython3",
   "version": "3.11.9"
  }
 },
 "nbformat": 4,
 "nbformat_minor": 2
}
